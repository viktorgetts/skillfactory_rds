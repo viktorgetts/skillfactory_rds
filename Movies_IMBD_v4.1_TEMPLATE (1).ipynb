{
 "cells": [
  {
   "cell_type": "code",
   "execution_count": 338,
   "metadata": {
    "_cell_guid": "b1076dfc-b9ad-4769-8c92-a6c4dae69d19",
    "_uuid": "8f2839f25d086af736a60e9eeb907d3b93b6e0e5",
    "colab": {},
    "colab_type": "code",
    "id": "U2D2gTdJVp90"
   },
   "outputs": [],
   "source": [
    "import numpy as np\n",
    "import pandas as pd\n",
    "import itertools as it\n",
    "import seaborn as sns\n",
    "import matplotlib.pyplot as plt\n",
    "from collections import Counter"
   ]
  },
  {
   "cell_type": "code",
   "execution_count": 3,
   "metadata": {
    "_cell_guid": "79c7e3d0-c299-4dcb-8224-4455121ee9b0",
    "_uuid": "d629ff2d2480ee46fbb7e2d37f6b5fab8052498a",
    "colab": {},
    "colab_type": "code",
    "id": "oyGfxL3eVp9-"
   },
   "outputs": [
    {
     "data": {
      "text/html": [
       "<div>\n",
       "<style scoped>\n",
       "    .dataframe tbody tr th:only-of-type {\n",
       "        vertical-align: middle;\n",
       "    }\n",
       "\n",
       "    .dataframe tbody tr th {\n",
       "        vertical-align: top;\n",
       "    }\n",
       "\n",
       "    .dataframe thead th {\n",
       "        text-align: right;\n",
       "    }\n",
       "</style>\n",
       "<table border=\"1\" class=\"dataframe\">\n",
       "  <thead>\n",
       "    <tr style=\"text-align: right;\">\n",
       "      <th></th>\n",
       "      <th>imdb_id</th>\n",
       "      <th>budget</th>\n",
       "      <th>revenue</th>\n",
       "      <th>original_title</th>\n",
       "      <th>cast</th>\n",
       "      <th>director</th>\n",
       "      <th>tagline</th>\n",
       "      <th>overview</th>\n",
       "      <th>runtime</th>\n",
       "      <th>genres</th>\n",
       "      <th>production_companies</th>\n",
       "      <th>release_date</th>\n",
       "      <th>vote_average</th>\n",
       "      <th>release_year</th>\n",
       "    </tr>\n",
       "  </thead>\n",
       "  <tbody>\n",
       "    <tr>\n",
       "      <th>770</th>\n",
       "      <td>tt0822847</td>\n",
       "      <td>60000000</td>\n",
       "      <td>78309131</td>\n",
       "      <td>Priest</td>\n",
       "      <td>Paul Bettany|Cam Gigandet|Karl Urban|Lily Coll...</td>\n",
       "      <td>Scott Stewart</td>\n",
       "      <td>Vampire Killer</td>\n",
       "      <td>In an alternate world, humanity and vampires h...</td>\n",
       "      <td>87</td>\n",
       "      <td>Action|Fantasy|Horror|Science Fiction|Thriller</td>\n",
       "      <td>Screen Gems|Stars Road Entertainment|Buckaroo ...</td>\n",
       "      <td>5/5/2011</td>\n",
       "      <td>5.3</td>\n",
       "      <td>2011</td>\n",
       "    </tr>\n",
       "    <tr>\n",
       "      <th>904</th>\n",
       "      <td>tt0288477</td>\n",
       "      <td>35000000</td>\n",
       "      <td>68349884</td>\n",
       "      <td>Ghost Ship</td>\n",
       "      <td>Gabriel Byrne|Julianna Margulies|Desmond Harri...</td>\n",
       "      <td>Steve Beck</td>\n",
       "      <td>Sea Evil</td>\n",
       "      <td>After discovering a passenger ship missing sin...</td>\n",
       "      <td>91</td>\n",
       "      <td>Horror|Mystery|Thriller</td>\n",
       "      <td>Village Roadshow Pictures|NPV Entertainment|Da...</td>\n",
       "      <td>10/25/2002</td>\n",
       "      <td>5.2</td>\n",
       "      <td>2002</td>\n",
       "    </tr>\n",
       "    <tr>\n",
       "      <th>11</th>\n",
       "      <td>tt1617661</td>\n",
       "      <td>176000003</td>\n",
       "      <td>183987723</td>\n",
       "      <td>Jupiter Ascending</td>\n",
       "      <td>Mila Kunis|Channing Tatum|Sean Bean|Eddie Redm...</td>\n",
       "      <td>Lana Wachowski|Lilly Wachowski</td>\n",
       "      <td>Expand your universe.</td>\n",
       "      <td>In a universe where human genetic material is ...</td>\n",
       "      <td>124</td>\n",
       "      <td>Science Fiction|Fantasy|Action|Adventure</td>\n",
       "      <td>Village Roadshow Pictures|Dune Entertainment|A...</td>\n",
       "      <td>2/4/2015</td>\n",
       "      <td>5.2</td>\n",
       "      <td>2015</td>\n",
       "    </tr>\n",
       "    <tr>\n",
       "      <th>1746</th>\n",
       "      <td>tt0414055</td>\n",
       "      <td>25000000</td>\n",
       "      <td>74237563</td>\n",
       "      <td>Elizabeth: The Golden Age</td>\n",
       "      <td>Cate Blanchett|Clive Owen|Geoffrey Rush|Lauren...</td>\n",
       "      <td>Shekhar Kapur</td>\n",
       "      <td>Woman. Warrior. Queen.</td>\n",
       "      <td>This movie is a Sequel to the First Elizabeth ...</td>\n",
       "      <td>114</td>\n",
       "      <td>Drama|History|Romance</td>\n",
       "      <td>Universal Pictures|StudioCanal|Working Title F...</td>\n",
       "      <td>9/9/2007</td>\n",
       "      <td>6.4</td>\n",
       "      <td>2007</td>\n",
       "    </tr>\n",
       "    <tr>\n",
       "      <th>1009</th>\n",
       "      <td>tt1748122</td>\n",
       "      <td>16000000</td>\n",
       "      <td>68263166</td>\n",
       "      <td>Moonrise Kingdom</td>\n",
       "      <td>Bruce Willis|Edward Norton|Jared Gilman|Kara H...</td>\n",
       "      <td>Wes Anderson</td>\n",
       "      <td>A tormenting and surprising story of children ...</td>\n",
       "      <td>Set on an island off the coast of New England ...</td>\n",
       "      <td>94</td>\n",
       "      <td>Comedy|Drama|Romance</td>\n",
       "      <td>Scott Rudin Productions|Indian Paintbrush|Amer...</td>\n",
       "      <td>5/16/2012</td>\n",
       "      <td>7.6</td>\n",
       "      <td>2012</td>\n",
       "    </tr>\n",
       "  </tbody>\n",
       "</table>\n",
       "</div>"
      ],
      "text/plain": [
       "        imdb_id     budget    revenue             original_title  \\\n",
       "770   tt0822847   60000000   78309131                     Priest   \n",
       "904   tt0288477   35000000   68349884                 Ghost Ship   \n",
       "11    tt1617661  176000003  183987723          Jupiter Ascending   \n",
       "1746  tt0414055   25000000   74237563  Elizabeth: The Golden Age   \n",
       "1009  tt1748122   16000000   68263166           Moonrise Kingdom   \n",
       "\n",
       "                                                   cast  \\\n",
       "770   Paul Bettany|Cam Gigandet|Karl Urban|Lily Coll...   \n",
       "904   Gabriel Byrne|Julianna Margulies|Desmond Harri...   \n",
       "11    Mila Kunis|Channing Tatum|Sean Bean|Eddie Redm...   \n",
       "1746  Cate Blanchett|Clive Owen|Geoffrey Rush|Lauren...   \n",
       "1009  Bruce Willis|Edward Norton|Jared Gilman|Kara H...   \n",
       "\n",
       "                            director  \\\n",
       "770                    Scott Stewart   \n",
       "904                       Steve Beck   \n",
       "11    Lana Wachowski|Lilly Wachowski   \n",
       "1746                   Shekhar Kapur   \n",
       "1009                    Wes Anderson   \n",
       "\n",
       "                                                tagline  \\\n",
       "770                                      Vampire Killer   \n",
       "904                                            Sea Evil   \n",
       "11                                Expand your universe.   \n",
       "1746                             Woman. Warrior. Queen.   \n",
       "1009  A tormenting and surprising story of children ...   \n",
       "\n",
       "                                               overview  runtime  \\\n",
       "770   In an alternate world, humanity and vampires h...       87   \n",
       "904   After discovering a passenger ship missing sin...       91   \n",
       "11    In a universe where human genetic material is ...      124   \n",
       "1746  This movie is a Sequel to the First Elizabeth ...      114   \n",
       "1009  Set on an island off the coast of New England ...       94   \n",
       "\n",
       "                                              genres  \\\n",
       "770   Action|Fantasy|Horror|Science Fiction|Thriller   \n",
       "904                          Horror|Mystery|Thriller   \n",
       "11          Science Fiction|Fantasy|Action|Adventure   \n",
       "1746                           Drama|History|Romance   \n",
       "1009                            Comedy|Drama|Romance   \n",
       "\n",
       "                                   production_companies release_date  \\\n",
       "770   Screen Gems|Stars Road Entertainment|Buckaroo ...     5/5/2011   \n",
       "904   Village Roadshow Pictures|NPV Entertainment|Da...   10/25/2002   \n",
       "11    Village Roadshow Pictures|Dune Entertainment|A...     2/4/2015   \n",
       "1746  Universal Pictures|StudioCanal|Working Title F...     9/9/2007   \n",
       "1009  Scott Rudin Productions|Indian Paintbrush|Amer...    5/16/2012   \n",
       "\n",
       "      vote_average  release_year  \n",
       "770            5.3          2011  \n",
       "904            5.2          2002  \n",
       "11             5.2          2015  \n",
       "1746           6.4          2007  \n",
       "1009           7.6          2012  "
      ]
     },
     "execution_count": 3,
     "metadata": {},
     "output_type": "execute_result"
    }
   ],
   "source": [
    "data = pd.read_csv('C:/Users/Софулькан/Downloads/movie_bd_v5.csv')\n",
    "data.sample(5)"
   ]
  },
  {
   "cell_type": "code",
   "execution_count": 19,
   "metadata": {
    "colab": {},
    "colab_type": "code",
    "id": "CoYUnagMVp-C"
   },
   "outputs": [
    {
     "data": {
      "text/html": [
       "<div>\n",
       "<style scoped>\n",
       "    .dataframe tbody tr th:only-of-type {\n",
       "        vertical-align: middle;\n",
       "    }\n",
       "\n",
       "    .dataframe tbody tr th {\n",
       "        vertical-align: top;\n",
       "    }\n",
       "\n",
       "    .dataframe thead th {\n",
       "        text-align: right;\n",
       "    }\n",
       "</style>\n",
       "<table border=\"1\" class=\"dataframe\">\n",
       "  <thead>\n",
       "    <tr style=\"text-align: right;\">\n",
       "      <th></th>\n",
       "      <th>budget</th>\n",
       "      <th>revenue</th>\n",
       "      <th>runtime</th>\n",
       "      <th>vote_average</th>\n",
       "      <th>release_year</th>\n",
       "    </tr>\n",
       "  </thead>\n",
       "  <tbody>\n",
       "    <tr>\n",
       "      <th>count</th>\n",
       "      <td>1.889000e+03</td>\n",
       "      <td>1.889000e+03</td>\n",
       "      <td>1889.000000</td>\n",
       "      <td>1889.000000</td>\n",
       "      <td>1889.000000</td>\n",
       "    </tr>\n",
       "    <tr>\n",
       "      <th>mean</th>\n",
       "      <td>5.431083e+07</td>\n",
       "      <td>1.553653e+08</td>\n",
       "      <td>109.658549</td>\n",
       "      <td>6.140762</td>\n",
       "      <td>2007.860773</td>\n",
       "    </tr>\n",
       "    <tr>\n",
       "      <th>std</th>\n",
       "      <td>4.858721e+07</td>\n",
       "      <td>2.146698e+08</td>\n",
       "      <td>18.017041</td>\n",
       "      <td>0.764763</td>\n",
       "      <td>4.468841</td>\n",
       "    </tr>\n",
       "    <tr>\n",
       "      <th>min</th>\n",
       "      <td>5.000000e+06</td>\n",
       "      <td>2.033165e+06</td>\n",
       "      <td>63.000000</td>\n",
       "      <td>3.300000</td>\n",
       "      <td>2000.000000</td>\n",
       "    </tr>\n",
       "    <tr>\n",
       "      <th>25%</th>\n",
       "      <td>2.000000e+07</td>\n",
       "      <td>3.456058e+07</td>\n",
       "      <td>97.000000</td>\n",
       "      <td>5.600000</td>\n",
       "      <td>2004.000000</td>\n",
       "    </tr>\n",
       "    <tr>\n",
       "      <th>50%</th>\n",
       "      <td>3.800000e+07</td>\n",
       "      <td>8.361541e+07</td>\n",
       "      <td>107.000000</td>\n",
       "      <td>6.100000</td>\n",
       "      <td>2008.000000</td>\n",
       "    </tr>\n",
       "    <tr>\n",
       "      <th>75%</th>\n",
       "      <td>7.200000e+07</td>\n",
       "      <td>1.782626e+08</td>\n",
       "      <td>120.000000</td>\n",
       "      <td>6.600000</td>\n",
       "      <td>2012.000000</td>\n",
       "    </tr>\n",
       "    <tr>\n",
       "      <th>max</th>\n",
       "      <td>3.800000e+08</td>\n",
       "      <td>2.781506e+09</td>\n",
       "      <td>214.000000</td>\n",
       "      <td>8.100000</td>\n",
       "      <td>2015.000000</td>\n",
       "    </tr>\n",
       "  </tbody>\n",
       "</table>\n",
       "</div>"
      ],
      "text/plain": [
       "             budget       revenue      runtime  vote_average  release_year\n",
       "count  1.889000e+03  1.889000e+03  1889.000000   1889.000000   1889.000000\n",
       "mean   5.431083e+07  1.553653e+08   109.658549      6.140762   2007.860773\n",
       "std    4.858721e+07  2.146698e+08    18.017041      0.764763      4.468841\n",
       "min    5.000000e+06  2.033165e+06    63.000000      3.300000   2000.000000\n",
       "25%    2.000000e+07  3.456058e+07    97.000000      5.600000   2004.000000\n",
       "50%    3.800000e+07  8.361541e+07   107.000000      6.100000   2008.000000\n",
       "75%    7.200000e+07  1.782626e+08   120.000000      6.600000   2012.000000\n",
       "max    3.800000e+08  2.781506e+09   214.000000      8.100000   2015.000000"
      ]
     },
     "execution_count": 19,
     "metadata": {},
     "output_type": "execute_result"
    }
   ],
   "source": [
    "data.describe()"
   ]
  },
  {
   "cell_type": "markdown",
   "metadata": {
    "colab_type": "text",
    "id": "DTIt7ezGVp-G"
   },
   "source": [
    "# Предобработка"
   ]
  },
  {
   "cell_type": "code",
   "execution_count": 394,
   "metadata": {
    "colab": {},
    "colab_type": "code",
    "id": "jNb40DwKVp-H"
   },
   "outputs": [],
   "source": [
    "answers = {} # создадим словарь для ответов\n",
    "\n",
    "# тут другие ваши предобработки колонок например:\n",
    "\n",
    "data['profit'] = data.revenue - data.budget  # колонка с прибылью фильмов\n",
    "\n",
    "data.release_date = pd.to_datetime(data.release_date) # преобразуем формат даты\n",
    "data['release_month'] = data.release_date.dt.month  # колонка с месяцем выхода фильма\n",
    "\n",
    "def fav_genre(genre):  # функция для определения самого частого жанра\n",
    "    \n",
    "    count = Counter()  # создаем счетчик\n",
    "    \n",
    "    for each in genre.split('|'):  # для каждого жанра в списке проверяем\n",
    "        \n",
    "        if each in count:\n",
    "            count[each] += 1  # если он уже в счетчике, прибавляем 1\n",
    "        else:\n",
    "            count[each] = 1  # если нет, добавляем\n",
    "            \n",
    "    return count\n",
    "\n",
    "\n",
    "def pair_actors(actors):  # функция для определения пар актеров, чаще всего снимающихся вместе\n",
    "    \n",
    "    cnt = Counter()  # создаем счетчик\n",
    "    \n",
    "    pairs = it.combinations(actors.split('|'), 2)  # создаем все возможные комбинации пар актеров\n",
    "    \n",
    "    for pair in pairs:  # для каждой пары в списке проверяем\n",
    "        \n",
    "        if pair in cnt:\n",
    "            cnt[pair] += 1  # если она уже в счетчике, прибавляем 1\n",
    "        else:\n",
    "            cnt[pair] = 1  # если нет, добавляем\n",
    "            \n",
    "    return cnt"
   ]
  },
  {
   "cell_type": "markdown",
   "metadata": {
    "colab_type": "text",
    "id": "YxZaH-nPVp-L"
   },
   "source": [
    "# 1. У какого фильма из списка самый большой бюджет?"
   ]
  },
  {
   "cell_type": "markdown",
   "metadata": {
    "colab_type": "text",
    "id": "Nd-G5gX6Vp-M"
   },
   "source": [
    "Использовать варианты ответов в коде решения запрещено.    \n",
    "Вы думаете и в жизни у вас будут варианты ответов?)"
   ]
  },
  {
   "cell_type": "code",
   "execution_count": 398,
   "metadata": {
    "colab": {},
    "colab_type": "code",
    "id": "dZwb3m28Vp-S"
   },
   "outputs": [],
   "source": [
    "# тут пишем ваш код для решения данного вопроса:\n",
    "answers['1'] = data.original_title[data.budget == data.budget.max()].iloc[0]"
   ]
  },
  {
   "cell_type": "markdown",
   "metadata": {
    "colab_type": "text",
    "id": "K7L3nbRXVp-X"
   },
   "source": [
    "ВАРИАНТ 2"
   ]
  },
  {
   "cell_type": "code",
   "execution_count": 314,
   "metadata": {
    "colab": {},
    "colab_type": "code",
    "id": "OGaoQI7rVp-X"
   },
   "outputs": [
    {
     "data": {
      "text/plain": [
       "'Pirates of the Caribbean: On Stranger Tides'"
      ]
     },
     "execution_count": 314,
     "metadata": {},
     "output_type": "execute_result"
    }
   ],
   "source": [
    "# можно добавлять разные варианты решения\n",
    "data.groupby(['original_title']).budget.max().sort_values(ascending = False).index[0]"
   ]
  },
  {
   "cell_type": "markdown",
   "metadata": {
    "colab_type": "text",
    "id": "FNRbbI3vVp-c"
   },
   "source": [
    "# 2. Какой из фильмов самый длительный (в минутах)?"
   ]
  },
  {
   "cell_type": "code",
   "execution_count": 0,
   "metadata": {
    "colab": {},
    "colab_type": "code",
    "id": "vHAoEXNTVp-d"
   },
   "outputs": [],
   "source": [
    "# думаю логику работы с этим словарем вы уже поняли, \n",
    "# поэтому не буду больше его дублировать\n",
    "# answers['2'] = '...'"
   ]
  },
  {
   "cell_type": "code",
   "execution_count": 399,
   "metadata": {
    "colab": {},
    "colab_type": "code",
    "id": "ot-VX2XrVp-g"
   },
   "outputs": [],
   "source": [
    "answers['2'] = data.original_title[data.runtime == data.runtime.max()].iloc[0]"
   ]
  },
  {
   "cell_type": "markdown",
   "metadata": {
    "colab_type": "text",
    "id": "bapLlpW8Vp-k"
   },
   "source": [
    "# 3. Какой из фильмов самый короткий (в минутах)?\n",
    "\n",
    "\n",
    "\n"
   ]
  },
  {
   "cell_type": "code",
   "execution_count": 400,
   "metadata": {
    "colab": {},
    "colab_type": "code",
    "id": "YBxaSHuAVp-l"
   },
   "outputs": [],
   "source": [
    "answers['3'] = data.original_title[data.runtime == data.runtime.min()].iloc[0]"
   ]
  },
  {
   "cell_type": "markdown",
   "metadata": {
    "colab_type": "text",
    "id": "TfQbxbfNVp-p"
   },
   "source": [
    "# 4. Какова средняя длительность фильмов?\n"
   ]
  },
  {
   "cell_type": "code",
   "execution_count": 401,
   "metadata": {
    "colab": {},
    "colab_type": "code",
    "id": "5K6dKZYVVp-q"
   },
   "outputs": [],
   "source": [
    "answers['4'] = round(data.runtime.mean())"
   ]
  },
  {
   "cell_type": "markdown",
   "metadata": {
    "colab_type": "text",
    "id": "r5TvbnT_Vp-u"
   },
   "source": [
    "# 5. Каково медианное значение длительности фильмов? "
   ]
  },
  {
   "cell_type": "code",
   "execution_count": 402,
   "metadata": {
    "colab": {},
    "colab_type": "code",
    "id": "iBROplKnVp-v"
   },
   "outputs": [],
   "source": [
    "answers['5'] = round(data.runtime.median())"
   ]
  },
  {
   "cell_type": "markdown",
   "metadata": {
    "colab_type": "text",
    "id": "39P-deDSVp-y"
   },
   "source": [
    "# 6. Какой самый прибыльный фильм?\n",
    "#### Внимание! Здесь и далее под «прибылью» или «убытками» понимается разность между сборами и бюджетом фильма. (прибыль = сборы - бюджет) в нашем датасете это будет (profit = revenue - budget) "
   ]
  },
  {
   "cell_type": "code",
   "execution_count": 403,
   "metadata": {
    "colab": {},
    "colab_type": "code",
    "id": "UYZh4T9WVp-y"
   },
   "outputs": [],
   "source": [
    "# лучше код получения столбца profit вынести в Предобработку что в начале\n",
    "answers['6'] = data.original_title[data.profit == data.profit.max()].iloc[0]"
   ]
  },
  {
   "cell_type": "markdown",
   "metadata": {
    "colab_type": "text",
    "id": "M99JmIX4Vp-2"
   },
   "source": [
    "# 7. Какой фильм самый убыточный? "
   ]
  },
  {
   "cell_type": "code",
   "execution_count": 404,
   "metadata": {
    "colab": {},
    "colab_type": "code",
    "id": "w-D2m4XPVp-3"
   },
   "outputs": [],
   "source": [
    "answers['7'] = data.original_title[data.profit == data.profit.min()].iloc[0]"
   ]
  },
  {
   "cell_type": "markdown",
   "metadata": {
    "colab_type": "text",
    "id": "wEOM5ERVVp-6"
   },
   "source": [
    "# 8. У скольких фильмов из датасета объем сборов оказался выше бюджета?"
   ]
  },
  {
   "cell_type": "code",
   "execution_count": 405,
   "metadata": {
    "colab": {},
    "colab_type": "code",
    "id": "y00_7HD6Vp-7"
   },
   "outputs": [],
   "source": [
    "answers['8'] = data.original_title[data.profit > 0].count()"
   ]
  },
  {
   "cell_type": "markdown",
   "metadata": {
    "colab_type": "text",
    "id": "xhpspA9KVp_A"
   },
   "source": [
    "# 9. Какой фильм оказался самым кассовым в 2008 году?"
   ]
  },
  {
   "cell_type": "code",
   "execution_count": 406,
   "metadata": {
    "colab": {},
    "colab_type": "code",
    "id": "MoUyQr9RVp_B"
   },
   "outputs": [],
   "source": [
    "answers['9'] = data[data.release_year == 2008].nlargest(1, 'revenue').original_title.iloc[0]"
   ]
  },
  {
   "cell_type": "markdown",
   "metadata": {
    "colab_type": "text",
    "id": "Zi4hDKidVp_F"
   },
   "source": [
    "# 10. Самый убыточный фильм за период с 2012 по 2014 г. (включительно)?\n"
   ]
  },
  {
   "cell_type": "code",
   "execution_count": 407,
   "metadata": {
    "colab": {},
    "colab_type": "code",
    "id": "XqyRmufJVp_F"
   },
   "outputs": [],
   "source": [
    "answers['10'] = data[(data.release_year >= 2012) & (data.release_year <= 2014)].nsmallest(1, 'profit').original_title.iloc[0]"
   ]
  },
  {
   "cell_type": "markdown",
   "metadata": {
    "colab_type": "text",
    "id": "EA7Sa9dkVp_I"
   },
   "source": [
    "# 11. Какого жанра фильмов больше всего?"
   ]
  },
  {
   "cell_type": "code",
   "execution_count": 408,
   "metadata": {
    "colab": {},
    "colab_type": "code",
    "id": "zsJAwJ8QVp_J"
   },
   "outputs": [],
   "source": [
    "# эту задачу тоже можно решать разными подходами, попробуй реализовать разные варианты\n",
    "# если будешь добавлять функцию - выноси ее в предобработку что в начале\n",
    "data_11 = data[['genres']].copy()  # копируем одну колонку\n",
    "data_11.genres = data_11.genres.str.split('|')  # разделяем\n",
    "answers['11'] = data_11.genres.explode().mode()[0]  # (и властвуем) и выводим самый частый жанр"
   ]
  },
  {
   "cell_type": "markdown",
   "metadata": {
    "colab_type": "text",
    "id": "Ax6g2C8SVp_M"
   },
   "source": [
    "ВАРИАНТ 2"
   ]
  },
  {
   "cell_type": "code",
   "execution_count": 371,
   "metadata": {
    "colab": {},
    "colab_type": "code",
    "id": "otO3SbrSVp_N"
   },
   "outputs": [
    {
     "data": {
      "text/plain": [
       "'Drama'"
      ]
     },
     "execution_count": 371,
     "metadata": {},
     "output_type": "execute_result"
    }
   ],
   "source": [
    "data_2 = data[['genres']].copy()\n",
    "most_genre = data_2.genres.apply(fav_genre)  # используем функцию, но зачем?...\n",
    "most_genre.agg('sum').most_common()[0][0]  # it's alive!"
   ]
  },
  {
   "cell_type": "markdown",
   "metadata": {
    "colab_type": "text",
    "id": "T9_bPWpkVp_Q"
   },
   "source": [
    "# 12. Фильмы какого жанра чаще всего становятся прибыльными? "
   ]
  },
  {
   "cell_type": "code",
   "execution_count": 409,
   "metadata": {
    "colab": {},
    "colab_type": "code",
    "id": "Tmt8MaK1Vp_R"
   },
   "outputs": [],
   "source": [
    "profit_movies = data[['genres', 'profit']].copy()\n",
    "profit_movies = profit_movies[profit_movies.profit > 0]  # берем только прибыльные фильмы\n",
    "answers['12'] = profit_movies.genres.str.split('|').explode().value_counts().index[0]  # разделяем жанры и считаем \n"
   ]
  },
  {
   "cell_type": "markdown",
   "metadata": {
    "colab_type": "text",
    "id": "0F23bgsDVp_U"
   },
   "source": [
    "# 13. У какого режиссера самые большие суммарные кассовые сборы?"
   ]
  },
  {
   "cell_type": "code",
   "execution_count": 410,
   "metadata": {
    "colab": {},
    "colab_type": "code",
    "id": "K6Z3J8ygVp_X"
   },
   "outputs": [],
   "source": [
    "best_director = data[['director', 'revenue']].copy()\n",
    "best_director.director = best_director.director.str.split('|')\n",
    "best_director = best_director.explode('director')\n",
    "answers['13'] = best_director.groupby(['director']).revenue.sum().idxmax()  # группируем по режиссеру и суммируем сборы"
   ]
  },
  {
   "cell_type": "markdown",
   "metadata": {
    "colab_type": "text",
    "id": "PsYC9FgRVp_a"
   },
   "source": [
    "# 14. Какой режисер снял больше всего фильмов в стиле Action?"
   ]
  },
  {
   "cell_type": "code",
   "execution_count": 411,
   "metadata": {
    "colab": {},
    "colab_type": "code",
    "id": "wd2M-wHeVp_b"
   },
   "outputs": [],
   "source": [
    "action_director = data[['director', 'genres']].copy()\n",
    "action_director = action_director[action_director.genres.str.contains('Action')]  # оставляем только те фильмы, в которых есть жанр Action\n",
    "action_director = action_director.director.str.split('|')  # разделяем режиссеров\n",
    "answers['14'] = action_director.explode('director').value_counts().index[0]  # и находим кто чаще встречается"
   ]
  },
  {
   "cell_type": "markdown",
   "metadata": {
    "colab_type": "text",
    "id": "PQ0KciD7Vp_f"
   },
   "source": [
    "# 15. Фильмы с каким актером принесли самые высокие кассовые сборы в 2012 году? "
   ]
  },
  {
   "cell_type": "code",
   "execution_count": 412,
   "metadata": {
    "colab": {},
    "colab_type": "code",
    "id": "aga62oeKVp_g"
   },
   "outputs": [],
   "source": [
    "data_2012 = data[data.release_year == 2012]  # берем только 2012 год\n",
    "data_2012 = data_2012[['cast', 'revenue']]\n",
    "data_2012.cast = data_2012.cast.str.split('|')  # разделяем актеров\n",
    "data_2012 = data_2012.explode('cast')  # натягиваем сову на глобус\n",
    "answers['15'] = data_2012.groupby(['cast']).revenue.sum().sort_values(ascending = False).index[0]  # группируем по актерам и суммируем кассу\n",
    "\n"
   ]
  },
  {
   "cell_type": "markdown",
   "metadata": {
    "colab_type": "text",
    "id": "mWHyyL7QVp_j"
   },
   "source": [
    "# 16. Какой актер снялся в большем количестве высокобюджетных фильмов?"
   ]
  },
  {
   "cell_type": "code",
   "execution_count": 413,
   "metadata": {
    "colab": {},
    "colab_type": "code",
    "id": "qQtmHKTFVp_k"
   },
   "outputs": [],
   "source": [
    "top_actor = data[data.budget > data.budget.mean()]  # оставляем фильмы с бюджетом выше среднего\n",
    "top_actor = top_actor[['cast']]\n",
    "answers['16'] = top_actor.cast.str.split('|').explode().value_counts().index[0]  # находим, кто снимается чаще всего"
   ]
  },
  {
   "cell_type": "markdown",
   "metadata": {
    "colab_type": "text",
    "id": "NIh6AaW5Vp_n"
   },
   "source": [
    "# 17. В фильмах какого жанра больше всего снимался Nicolas Cage? "
   ]
  },
  {
   "cell_type": "code",
   "execution_count": 414,
   "metadata": {
    "colab": {},
    "colab_type": "code",
    "id": "H74SJDIBVp_n"
   },
   "outputs": [],
   "source": [
    "cage_genre = data[['cast', 'genres']].copy()\n",
    "cage_genre = cage_genre[cage_genre.cast.str.contains('Nicolas Cage')]  # оставляем фильмы с Кейджем\n",
    "cage_genre.genres = cage_genre.genres.str.split('|')\n",
    "cage_genre = cage_genre.explode('genres')  # разделяем жанры\n",
    "answers['17'] = cage_genre.genres.value_counts().index[0]  # и находим любимый жанр Кейджа\n"
   ]
  },
  {
   "cell_type": "markdown",
   "metadata": {
    "colab_type": "text",
    "id": "RqOmPRfWVp_q"
   },
   "source": [
    "# 18. Самый убыточный фильм от Paramount Pictures"
   ]
  },
  {
   "cell_type": "code",
   "execution_count": 415,
   "metadata": {
    "colab": {},
    "colab_type": "code",
    "id": "9E_B0Y96Vp_r"
   },
   "outputs": [],
   "source": [
    "paramount_fail = data[['production_companies', 'profit', 'original_title']].copy()\n",
    "paramount_fail = paramount_fail[paramount_fail.production_companies.str.contains('Paramount Pictures')]  # только фильмы Paramount\n",
    "answers['18'] = paramount_fail.original_title[paramount_fail.profit == paramount_fail.profit.min()].iloc[0]  # самый фейловый"
   ]
  },
  {
   "cell_type": "markdown",
   "metadata": {
    "colab_type": "text",
    "id": "vS8Ur6ddVp_u"
   },
   "source": [
    "# 19. Какой год стал самым успешным по суммарным кассовым сборам?"
   ]
  },
  {
   "cell_type": "code",
   "execution_count": 416,
   "metadata": {
    "colab": {},
    "colab_type": "code",
    "id": "Dnbt4GdIVp_v"
   },
   "outputs": [],
   "source": [
    "best_year = data[['release_year', 'revenue']].copy()\n",
    "answers['19'] = best_year.groupby('release_year').revenue.sum().idxmax()  # группируем по году, суммируем кассы"
   ]
  },
  {
   "cell_type": "markdown",
   "metadata": {
    "colab_type": "text",
    "id": "JAzJh4QAVp_z"
   },
   "source": [
    "# 20. Какой самый прибыльный год для студии Warner Bros?"
   ]
  },
  {
   "cell_type": "code",
   "execution_count": 417,
   "metadata": {
    "colab": {},
    "colab_type": "code",
    "id": "wgVu02DEVp_0"
   },
   "outputs": [],
   "source": [
    "profit_year = data[['release_year', 'profit', 'production_companies']].copy()\n",
    "profit_year = profit_year[profit_year.production_companies.str.contains('Warner Bros')]  # оставляем фильмы Warner'ов\n",
    "answers['20'] = profit_year.groupby('release_year').profit.sum().idxmax()  # группируем по году, суммируем профит"
   ]
  },
  {
   "cell_type": "markdown",
   "metadata": {
    "colab_type": "text",
    "id": "8Im1S2HRVp_4"
   },
   "source": [
    "# 21. В каком месяце за все годы суммарно вышло больше всего фильмов?"
   ]
  },
  {
   "cell_type": "code",
   "execution_count": 418,
   "metadata": {
    "colab": {},
    "colab_type": "code",
    "id": "lev6TH7gVp_4"
   },
   "outputs": [],
   "source": [
    "answers['21'] = data.release_month.value_counts().index[0]"
   ]
  },
  {
   "cell_type": "markdown",
   "metadata": {
    "colab_type": "text",
    "id": "uAJsZ_NeVp_7"
   },
   "source": [
    "# 22. Сколько суммарно вышло фильмов летом? (за июнь, июль, август)"
   ]
  },
  {
   "cell_type": "code",
   "execution_count": 419,
   "metadata": {
    "colab": {},
    "colab_type": "code",
    "id": "Aa-hEREoVp_8"
   },
   "outputs": [],
   "source": [
    "summer = data[(data.release_month > 5) & (data.release_month < 9)]  # оставляем только летние фильмы\n",
    "answers['22'] = summer.release_month.count()  # и считаем"
   ]
  },
  {
   "cell_type": "markdown",
   "metadata": {
    "colab_type": "text",
    "id": "G94ppOY1VqAA"
   },
   "source": [
    "# 23. Для какого режиссера зима – самое продуктивное время года? "
   ]
  },
  {
   "cell_type": "code",
   "execution_count": 420,
   "metadata": {
    "colab": {},
    "colab_type": "code",
    "id": "RhNTsamuVqAB"
   },
   "outputs": [],
   "source": [
    "winter_director = data[['director', 'release_month']].copy()\n",
    "winter_director = winter_director[winter_director.release_month.isin([1, 2, 12])]  # оставляем фильмы, которые вышли зимой\n",
    "winter_director = winter_director.director.str.split('|')  # разделяем режиссеров\n",
    "answers['23'] = winter_director.explode('director').value_counts().index[0]  # находим продуктивного\n"
   ]
  },
  {
   "cell_type": "markdown",
   "metadata": {
    "colab_type": "text",
    "id": "RBo0JVjVVqAF"
   },
   "source": [
    "# 24. Какая студия дает самые длинные названия своим фильмам по количеству символов?"
   ]
  },
  {
   "cell_type": "code",
   "execution_count": 421,
   "metadata": {
    "colab": {},
    "colab_type": "code",
    "id": "QRGS8L0iVqAG"
   },
   "outputs": [],
   "source": [
    "long_title = data[['original_title', 'production_companies']].copy()\n",
    "long_title.original_title = long_title.original_title.apply(lambda x: len(x))  # считаем длину названия\n",
    "long_title.production_companies = long_title.production_companies.str.split('|')  # разделяем студии\n",
    "long_title = long_title.explode('production_companies')\n",
    "answers['24'] = long_title.groupby('production_companies').original_title.mean().idxmax()  # группируем по студиям и сравниваем среднюю длину названия"
   ]
  },
  {
   "cell_type": "markdown",
   "metadata": {
    "colab_type": "text",
    "id": "9G0hbvR7VqAK"
   },
   "source": [
    "# 25. Описание фильмов какой студии в среднем самые длинные по количеству слов?"
   ]
  },
  {
   "cell_type": "code",
   "execution_count": 422,
   "metadata": {
    "colab": {},
    "colab_type": "code",
    "id": "Ge2GsLNxVqAK"
   },
   "outputs": [],
   "source": [
    "long_overview = data[['overview', 'production_companies']].copy()\n",
    "long_overview.overview = long_overview.overview.apply(lambda x: len(x.split()))  # считаем количество слов в описании\n",
    "long_overview.production_companies = long_overview.production_companies.str.split('|')\n",
    "long_overview = long_overview.explode('production_companies')\n",
    "answers['25'] = long_overview.groupby('production_companies').overview.mean().idxmax()  # и находим студию, где в среднем описание длиннее"
   ]
  },
  {
   "cell_type": "markdown",
   "metadata": {
    "colab_type": "text",
    "id": "FJ1AFt90VqAP"
   },
   "source": [
    "# 26. Какие фильмы входят в 1 процент лучших по рейтингу? \n",
    "по vote_average"
   ]
  },
  {
   "cell_type": "code",
   "execution_count": 395,
   "metadata": {
    "colab": {},
    "colab_type": "code",
    "id": "8qmJVq4CVqAQ"
   },
   "outputs": [],
   "source": [
    "worst_99 = np.percentile(data.vote_average, 99)  # переменная, где 99 процентов худших фильмов по среднему рейтингу\n",
    "best_percent_mov = data[['original_title', 'vote_average']].copy()\n",
    "best_percent_mov = best_percent_mov[best_percent_mov.vote_average >= worst_99]  # оставляем только лучший 1 процент\n",
    "best_percent_mov.sort_values(by = 'vote_average', ascending = False)  # сортируем по оценке от лучшего к менее лучшему\n",
    "answers['26'] = 'Inside Out, The Dark Knight, 12 Years a Slave'"
   ]
  },
  {
   "cell_type": "markdown",
   "metadata": {
    "colab_type": "text",
    "id": "MdXsUXbCVqAV"
   },
   "source": [
    "# 27. Какие актеры чаще всего снимаются в одном фильме вместе?\n"
   ]
  },
  {
   "cell_type": "code",
   "execution_count": 423,
   "metadata": {},
   "outputs": [],
   "source": [
    "answers['27'] = data.cast.apply(pair_actors).agg('sum').most_common()[0][0]  # it's alive2!"
   ]
  },
  {
   "cell_type": "markdown",
   "metadata": {
    "colab_type": "text",
    "id": "4ymnxEVoVqAW"
   },
   "source": [
    "ВАРИАНТ 2"
   ]
  },
  {
   "cell_type": "markdown",
   "metadata": {
    "colab_type": "text",
    "id": "U0nONFnGVqAX"
   },
   "source": [
    "# Submission"
   ]
  },
  {
   "cell_type": "code",
   "execution_count": 424,
   "metadata": {
    "colab": {},
    "colab_type": "code",
    "id": "IfcaRO9-VqAX",
    "outputId": "0f132912-32bb-4196-c98c-abfbc4ad5a5f"
   },
   "outputs": [
    {
     "data": {
      "text/plain": [
       "{'26': 'Inside Out, The Dark Knight, 12 Years a Slave',\n",
       " '1': 'Pirates of the Caribbean: On Stranger Tides',\n",
       " '2': 'Gods and Generals',\n",
       " '3': 'Winnie the Pooh',\n",
       " '4': 110,\n",
       " '5': 107,\n",
       " '6': 'Avatar',\n",
       " '7': 'The Lone Ranger',\n",
       " '8': 1478,\n",
       " '9': 'The Dark Knight',\n",
       " '10': 'The Lone Ranger',\n",
       " '11': 'Drama',\n",
       " '12': 'Drama',\n",
       " '13': 'Peter Jackson',\n",
       " '14': 'Robert Rodriguez',\n",
       " '15': 'Chris Hemsworth',\n",
       " '16': 'Matt Damon',\n",
       " '17': 'Action',\n",
       " '18': 'K-19: The Widowmaker',\n",
       " '19': 2015,\n",
       " '20': 2014,\n",
       " '21': 9,\n",
       " '22': 450,\n",
       " '23': 'Peter Jackson',\n",
       " '24': 'Four By Two Productions',\n",
       " '25': 'Midnight Picture Show',\n",
       " '27': ('Daniel Radcliffe', 'Rupert Grint')}"
      ]
     },
     "execution_count": 424,
     "metadata": {},
     "output_type": "execute_result"
    }
   ],
   "source": [
    "# в конце можно посмотреть свои ответы к каждому вопросу\n",
    "answers"
   ]
  },
  {
   "cell_type": "code",
   "execution_count": 396,
   "metadata": {
    "colab": {},
    "colab_type": "code",
    "id": "SiRmHPl8VqAd"
   },
   "outputs": [
    {
     "data": {
      "text/plain": [
       "1"
      ]
     },
     "execution_count": 396,
     "metadata": {},
     "output_type": "execute_result"
    }
   ],
   "source": [
    "# и убедиться что ни чего не пропустил)\n",
    "len(answers)"
   ]
  },
  {
   "cell_type": "code",
   "execution_count": 0,
   "metadata": {
    "colab": {},
    "colab_type": "code",
    "id": "uCfuTkRbVqAg"
   },
   "outputs": [],
   "source": [
    "# 27/27, господи, это 27 из 27!"
   ]
  },
  {
   "cell_type": "code",
   "execution_count": 0,
   "metadata": {
    "colab": {},
    "colab_type": "code",
    "id": "Vwx3NrkSVqAl"
   },
   "outputs": [],
   "source": []
  }
 ],
 "metadata": {
  "colab": {
   "name": "Copy of [SF-DST] Movies IMBD v4.1 TEMPLATE.ipynb",
   "provenance": []
  },
  "kernelspec": {
   "display_name": "Python 3",
   "language": "python",
   "name": "python3"
  },
  "language_info": {
   "codemirror_mode": {
    "name": "ipython",
    "version": 3
   },
   "file_extension": ".py",
   "mimetype": "text/x-python",
   "name": "python",
   "nbconvert_exporter": "python",
   "pygments_lexer": "ipython3",
   "version": "3.8.8"
  }
 },
 "nbformat": 4,
 "nbformat_minor": 1
}
